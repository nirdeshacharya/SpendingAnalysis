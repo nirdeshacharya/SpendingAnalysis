{
 "cells": [
  {
   "attachments": {},
   "cell_type": "markdown",
   "metadata": {},
   "source": [
    "# Credit Card Spending Analysis\n"
   ]
  },
  {
   "attachments": {},
   "cell_type": "markdown",
   "metadata": {},
   "source": [
    "### 1. importing data"
   ]
  },
  {
   "cell_type": "code",
   "execution_count": 6,
   "metadata": {},
   "outputs": [
    {
     "name": "stdout",
     "output_type": "stream",
     "text": [
      "Requirement already satisfied: pandas in /Users/nirdeshacharya/miniconda3/envs/CreditCardCleaning/lib/python3.11/site-packages (2.0.0)\n",
      "Requirement already satisfied: python-dateutil>=2.8.2 in /Users/nirdeshacharya/miniconda3/envs/CreditCardCleaning/lib/python3.11/site-packages (from pandas) (2.8.2)\n",
      "Requirement already satisfied: pytz>=2020.1 in /Users/nirdeshacharya/miniconda3/envs/CreditCardCleaning/lib/python3.11/site-packages (from pandas) (2023.3)\n",
      "Requirement already satisfied: tzdata>=2022.1 in /Users/nirdeshacharya/miniconda3/envs/CreditCardCleaning/lib/python3.11/site-packages (from pandas) (2023.3)\n",
      "Requirement already satisfied: numpy>=1.21.0 in /Users/nirdeshacharya/miniconda3/envs/CreditCardCleaning/lib/python3.11/site-packages (from pandas) (1.24.2)\n",
      "Requirement already satisfied: six>=1.5 in /Users/nirdeshacharya/miniconda3/envs/CreditCardCleaning/lib/python3.11/site-packages (from python-dateutil>=2.8.2->pandas) (1.16.0)\n",
      "Requirement already satisfied: matplotlib in /Users/nirdeshacharya/miniconda3/envs/CreditCardCleaning/lib/python3.11/site-packages (3.7.1)\n",
      "Requirement already satisfied: contourpy>=1.0.1 in /Users/nirdeshacharya/miniconda3/envs/CreditCardCleaning/lib/python3.11/site-packages (from matplotlib) (1.0.7)\n",
      "Requirement already satisfied: cycler>=0.10 in /Users/nirdeshacharya/miniconda3/envs/CreditCardCleaning/lib/python3.11/site-packages (from matplotlib) (0.11.0)\n",
      "Requirement already satisfied: fonttools>=4.22.0 in /Users/nirdeshacharya/miniconda3/envs/CreditCardCleaning/lib/python3.11/site-packages (from matplotlib) (4.39.3)\n",
      "Requirement already satisfied: kiwisolver>=1.0.1 in /Users/nirdeshacharya/miniconda3/envs/CreditCardCleaning/lib/python3.11/site-packages (from matplotlib) (1.4.4)\n",
      "Requirement already satisfied: numpy>=1.20 in /Users/nirdeshacharya/miniconda3/envs/CreditCardCleaning/lib/python3.11/site-packages (from matplotlib) (1.24.2)\n",
      "Requirement already satisfied: packaging>=20.0 in /Users/nirdeshacharya/miniconda3/envs/CreditCardCleaning/lib/python3.11/site-packages (from matplotlib) (23.0)\n",
      "Requirement already satisfied: pillow>=6.2.0 in /Users/nirdeshacharya/miniconda3/envs/CreditCardCleaning/lib/python3.11/site-packages (from matplotlib) (9.5.0)\n",
      "Requirement already satisfied: pyparsing>=2.3.1 in /Users/nirdeshacharya/miniconda3/envs/CreditCardCleaning/lib/python3.11/site-packages (from matplotlib) (3.0.9)\n",
      "Requirement already satisfied: python-dateutil>=2.7 in /Users/nirdeshacharya/miniconda3/envs/CreditCardCleaning/lib/python3.11/site-packages (from matplotlib) (2.8.2)\n",
      "Requirement already satisfied: six>=1.5 in /Users/nirdeshacharya/miniconda3/envs/CreditCardCleaning/lib/python3.11/site-packages (from python-dateutil>=2.7->matplotlib) (1.16.0)\n",
      "Requirement already satisfied: seaborn in /Users/nirdeshacharya/miniconda3/envs/CreditCardCleaning/lib/python3.11/site-packages (0.12.2)\n",
      "Requirement already satisfied: numpy!=1.24.0,>=1.17 in /Users/nirdeshacharya/miniconda3/envs/CreditCardCleaning/lib/python3.11/site-packages (from seaborn) (1.24.2)\n",
      "Requirement already satisfied: pandas>=0.25 in /Users/nirdeshacharya/miniconda3/envs/CreditCardCleaning/lib/python3.11/site-packages (from seaborn) (2.0.0)\n",
      "Requirement already satisfied: matplotlib!=3.6.1,>=3.1 in /Users/nirdeshacharya/miniconda3/envs/CreditCardCleaning/lib/python3.11/site-packages (from seaborn) (3.7.1)\n",
      "Requirement already satisfied: contourpy>=1.0.1 in /Users/nirdeshacharya/miniconda3/envs/CreditCardCleaning/lib/python3.11/site-packages (from matplotlib!=3.6.1,>=3.1->seaborn) (1.0.7)\n",
      "Requirement already satisfied: cycler>=0.10 in /Users/nirdeshacharya/miniconda3/envs/CreditCardCleaning/lib/python3.11/site-packages (from matplotlib!=3.6.1,>=3.1->seaborn) (0.11.0)\n",
      "Requirement already satisfied: fonttools>=4.22.0 in /Users/nirdeshacharya/miniconda3/envs/CreditCardCleaning/lib/python3.11/site-packages (from matplotlib!=3.6.1,>=3.1->seaborn) (4.39.3)\n",
      "Requirement already satisfied: kiwisolver>=1.0.1 in /Users/nirdeshacharya/miniconda3/envs/CreditCardCleaning/lib/python3.11/site-packages (from matplotlib!=3.6.1,>=3.1->seaborn) (1.4.4)\n",
      "Requirement already satisfied: packaging>=20.0 in /Users/nirdeshacharya/miniconda3/envs/CreditCardCleaning/lib/python3.11/site-packages (from matplotlib!=3.6.1,>=3.1->seaborn) (23.0)\n",
      "Requirement already satisfied: pillow>=6.2.0 in /Users/nirdeshacharya/miniconda3/envs/CreditCardCleaning/lib/python3.11/site-packages (from matplotlib!=3.6.1,>=3.1->seaborn) (9.5.0)\n",
      "Requirement already satisfied: pyparsing>=2.3.1 in /Users/nirdeshacharya/miniconda3/envs/CreditCardCleaning/lib/python3.11/site-packages (from matplotlib!=3.6.1,>=3.1->seaborn) (3.0.9)\n",
      "Requirement already satisfied: python-dateutil>=2.7 in /Users/nirdeshacharya/miniconda3/envs/CreditCardCleaning/lib/python3.11/site-packages (from matplotlib!=3.6.1,>=3.1->seaborn) (2.8.2)\n",
      "Requirement already satisfied: pytz>=2020.1 in /Users/nirdeshacharya/miniconda3/envs/CreditCardCleaning/lib/python3.11/site-packages (from pandas>=0.25->seaborn) (2023.3)\n",
      "Requirement already satisfied: tzdata>=2022.1 in /Users/nirdeshacharya/miniconda3/envs/CreditCardCleaning/lib/python3.11/site-packages (from pandas>=0.25->seaborn) (2023.3)\n",
      "Requirement already satisfied: six>=1.5 in /Users/nirdeshacharya/miniconda3/envs/CreditCardCleaning/lib/python3.11/site-packages (from python-dateutil>=2.7->matplotlib!=3.6.1,>=3.1->seaborn) (1.16.0)\n"
     ]
    }
   ],
   "source": [
    "#Downloading packages\n",
    "!pip install pandas\n",
    "!pip install matplotlib\n",
    "!pip install seaborn"
   ]
  },
  {
   "cell_type": "code",
   "execution_count": 7,
   "metadata": {},
   "outputs": [],
   "source": [
    "#importing packages\n",
    "\n",
    "import os\n",
    "import pandas as pd\n",
    "import numpy as np\n",
    "from matplotlib import pyplot as plt\n",
    "import seaborn as sns"
   ]
  },
  {
   "cell_type": "code",
   "execution_count": 8,
   "metadata": {},
   "outputs": [],
   "source": [
    "#Locate the CSV file and load\n",
    "\n",
    "os.chdir(\"../SpendingAnalysis/\")\n",
    "df1 = pd.read_csv(\"2021BA.csv\")\n",
    "df2 = pd.read_csv(\"2022BA.csv\")\n",
    "df3 = pd.read_csv(\"2022P.csv\")\n",
    "df = pd.concat([df1, df2, df3], axis=0)"
   ]
  },
  {
   "cell_type": "code",
   "execution_count": 9,
   "metadata": {},
   "outputs": [
    {
     "name": "stdout",
     "output_type": "stream",
     "text": [
      "<class 'pandas.core.frame.DataFrame'>\n",
      "Index: 856 entries, 0 to 306\n",
      "Data columns (total 3 columns):\n",
      " #   Column       Non-Null Count  Dtype  \n",
      "---  ------       --------------  -----  \n",
      " 0   Date         856 non-null    object \n",
      " 1   Description  856 non-null    object \n",
      " 2   Amount       856 non-null    float64\n",
      "dtypes: float64(1), object(2)\n",
      "memory usage: 26.8+ KB\n"
     ]
    }
   ],
   "source": [
    "df.info()"
   ]
  },
  {
   "attachments": {},
   "cell_type": "markdown",
   "metadata": {},
   "source": [
    "We have 856 rows"
   ]
  },
  {
   "cell_type": "code",
   "execution_count": 10,
   "metadata": {},
   "outputs": [
    {
     "data": {
      "text/html": [
       "<div>\n",
       "<style scoped>\n",
       "    .dataframe tbody tr th:only-of-type {\n",
       "        vertical-align: middle;\n",
       "    }\n",
       "\n",
       "    .dataframe tbody tr th {\n",
       "        vertical-align: top;\n",
       "    }\n",
       "\n",
       "    .dataframe thead th {\n",
       "        text-align: right;\n",
       "    }\n",
       "</style>\n",
       "<table border=\"1\" class=\"dataframe\">\n",
       "  <thead>\n",
       "    <tr style=\"text-align: right;\">\n",
       "      <th></th>\n",
       "      <th>Date</th>\n",
       "      <th>Description</th>\n",
       "      <th>Amount</th>\n",
       "    </tr>\n",
       "  </thead>\n",
       "  <tbody>\n",
       "    <tr>\n",
       "      <th>0</th>\n",
       "      <td>30/12/2021</td>\n",
       "      <td>ASDA STORES             FELTHAM</td>\n",
       "      <td>13.26</td>\n",
       "    </tr>\n",
       "    <tr>\n",
       "      <th>1</th>\n",
       "      <td>29/12/2021</td>\n",
       "      <td>TESCO STORE 2532 2532TE FELTHAM</td>\n",
       "      <td>1.81</td>\n",
       "    </tr>\n",
       "    <tr>\n",
       "      <th>2</th>\n",
       "      <td>29/12/2021</td>\n",
       "      <td>TESCO STORE 2532 2532TE FELTHAM</td>\n",
       "      <td>16.84</td>\n",
       "    </tr>\n",
       "    <tr>\n",
       "      <th>3</th>\n",
       "      <td>25/12/2021</td>\n",
       "      <td>IZ *GNDJ LIMITED        FELTHAM</td>\n",
       "      <td>5.19</td>\n",
       "    </tr>\n",
       "    <tr>\n",
       "      <th>4</th>\n",
       "      <td>23/12/2021</td>\n",
       "      <td>IZ *LITTLE KATHMANDU    EDGWARE</td>\n",
       "      <td>5.00</td>\n",
       "    </tr>\n",
       "    <tr>\n",
       "      <th>...</th>\n",
       "      <td>...</td>\n",
       "      <td>...</td>\n",
       "      <td>...</td>\n",
       "    </tr>\n",
       "    <tr>\n",
       "      <th>302</th>\n",
       "      <td>03/04/2022</td>\n",
       "      <td>IHS169516352PA02 2022-0 IMM HEALTH SURC</td>\n",
       "      <td>1248.00</td>\n",
       "    </tr>\n",
       "    <tr>\n",
       "      <th>303</th>\n",
       "      <td>02/04/2022</td>\n",
       "      <td>ASDA STORES             FELTHAM</td>\n",
       "      <td>6.99</td>\n",
       "    </tr>\n",
       "    <tr>\n",
       "      <th>304</th>\n",
       "      <td>29/03/2022</td>\n",
       "      <td>LIDL LON FELTHAM 0058   FELTHAM</td>\n",
       "      <td>21.65</td>\n",
       "    </tr>\n",
       "    <tr>\n",
       "      <th>305</th>\n",
       "      <td>26/03/2022</td>\n",
       "      <td>TFL TRAVEL CHARGE       TFL.GOV.UK/CP</td>\n",
       "      <td>7.20</td>\n",
       "    </tr>\n",
       "    <tr>\n",
       "      <th>306</th>\n",
       "      <td>25/03/2022</td>\n",
       "      <td>TFL TRAVEL CHARGE       TFL.GOV.UK/CP</td>\n",
       "      <td>4.50</td>\n",
       "    </tr>\n",
       "  </tbody>\n",
       "</table>\n",
       "<p>856 rows × 3 columns</p>\n",
       "</div>"
      ],
      "text/plain": [
       "           Date                              Description   Amount\n",
       "0    30/12/2021          ASDA STORES             FELTHAM    13.26\n",
       "1    29/12/2021          TESCO STORE 2532 2532TE FELTHAM     1.81\n",
       "2    29/12/2021          TESCO STORE 2532 2532TE FELTHAM    16.84\n",
       "3    25/12/2021          IZ *GNDJ LIMITED        FELTHAM     5.19\n",
       "4    23/12/2021          IZ *LITTLE KATHMANDU    EDGWARE     5.00\n",
       "..          ...                                      ...      ...\n",
       "302  03/04/2022  IHS169516352PA02 2022-0 IMM HEALTH SURC  1248.00\n",
       "303  02/04/2022          ASDA STORES             FELTHAM     6.99\n",
       "304  29/03/2022          LIDL LON FELTHAM 0058   FELTHAM    21.65\n",
       "305  26/03/2022    TFL TRAVEL CHARGE       TFL.GOV.UK/CP     7.20\n",
       "306  25/03/2022    TFL TRAVEL CHARGE       TFL.GOV.UK/CP     4.50\n",
       "\n",
       "[856 rows x 3 columns]"
      ]
     },
     "execution_count": 10,
     "metadata": {},
     "output_type": "execute_result"
    }
   ],
   "source": [
    "df"
   ]
  },
  {
   "attachments": {},
   "cell_type": "markdown",
   "metadata": {},
   "source": [
    "We are only going to take the spending and remove the credit card bill paid.\n",
    "Now its filtered to 796 rows"
   ]
  },
  {
   "cell_type": "code",
   "execution_count": 11,
   "metadata": {},
   "outputs": [
    {
     "data": {
      "text/html": [
       "<div>\n",
       "<style scoped>\n",
       "    .dataframe tbody tr th:only-of-type {\n",
       "        vertical-align: middle;\n",
       "    }\n",
       "\n",
       "    .dataframe tbody tr th {\n",
       "        vertical-align: top;\n",
       "    }\n",
       "\n",
       "    .dataframe thead th {\n",
       "        text-align: right;\n",
       "    }\n",
       "</style>\n",
       "<table border=\"1\" class=\"dataframe\">\n",
       "  <thead>\n",
       "    <tr style=\"text-align: right;\">\n",
       "      <th></th>\n",
       "      <th>Date</th>\n",
       "      <th>Description</th>\n",
       "      <th>Amount</th>\n",
       "    </tr>\n",
       "  </thead>\n",
       "  <tbody>\n",
       "    <tr>\n",
       "      <th>0</th>\n",
       "      <td>30/12/2021</td>\n",
       "      <td>ASDA STORES             FELTHAM</td>\n",
       "      <td>13.26</td>\n",
       "    </tr>\n",
       "    <tr>\n",
       "      <th>1</th>\n",
       "      <td>29/12/2021</td>\n",
       "      <td>TESCO STORE 2532 2532TE FELTHAM</td>\n",
       "      <td>1.81</td>\n",
       "    </tr>\n",
       "    <tr>\n",
       "      <th>2</th>\n",
       "      <td>29/12/2021</td>\n",
       "      <td>TESCO STORE 2532 2532TE FELTHAM</td>\n",
       "      <td>16.84</td>\n",
       "    </tr>\n",
       "    <tr>\n",
       "      <th>3</th>\n",
       "      <td>25/12/2021</td>\n",
       "      <td>IZ *GNDJ LIMITED        FELTHAM</td>\n",
       "      <td>5.19</td>\n",
       "    </tr>\n",
       "    <tr>\n",
       "      <th>4</th>\n",
       "      <td>23/12/2021</td>\n",
       "      <td>IZ *LITTLE KATHMANDU    EDGWARE</td>\n",
       "      <td>5.00</td>\n",
       "    </tr>\n",
       "    <tr>\n",
       "      <th>...</th>\n",
       "      <td>...</td>\n",
       "      <td>...</td>\n",
       "      <td>...</td>\n",
       "    </tr>\n",
       "    <tr>\n",
       "      <th>302</th>\n",
       "      <td>03/04/2022</td>\n",
       "      <td>IHS169516352PA02 2022-0 IMM HEALTH SURC</td>\n",
       "      <td>1248.00</td>\n",
       "    </tr>\n",
       "    <tr>\n",
       "      <th>303</th>\n",
       "      <td>02/04/2022</td>\n",
       "      <td>ASDA STORES             FELTHAM</td>\n",
       "      <td>6.99</td>\n",
       "    </tr>\n",
       "    <tr>\n",
       "      <th>304</th>\n",
       "      <td>29/03/2022</td>\n",
       "      <td>LIDL LON FELTHAM 0058   FELTHAM</td>\n",
       "      <td>21.65</td>\n",
       "    </tr>\n",
       "    <tr>\n",
       "      <th>305</th>\n",
       "      <td>26/03/2022</td>\n",
       "      <td>TFL TRAVEL CHARGE       TFL.GOV.UK/CP</td>\n",
       "      <td>7.20</td>\n",
       "    </tr>\n",
       "    <tr>\n",
       "      <th>306</th>\n",
       "      <td>25/03/2022</td>\n",
       "      <td>TFL TRAVEL CHARGE       TFL.GOV.UK/CP</td>\n",
       "      <td>4.50</td>\n",
       "    </tr>\n",
       "  </tbody>\n",
       "</table>\n",
       "<p>796 rows × 3 columns</p>\n",
       "</div>"
      ],
      "text/plain": [
       "           Date                              Description   Amount\n",
       "0    30/12/2021          ASDA STORES             FELTHAM    13.26\n",
       "1    29/12/2021          TESCO STORE 2532 2532TE FELTHAM     1.81\n",
       "2    29/12/2021          TESCO STORE 2532 2532TE FELTHAM    16.84\n",
       "3    25/12/2021          IZ *GNDJ LIMITED        FELTHAM     5.19\n",
       "4    23/12/2021          IZ *LITTLE KATHMANDU    EDGWARE     5.00\n",
       "..          ...                                      ...      ...\n",
       "302  03/04/2022  IHS169516352PA02 2022-0 IMM HEALTH SURC  1248.00\n",
       "303  02/04/2022          ASDA STORES             FELTHAM     6.99\n",
       "304  29/03/2022          LIDL LON FELTHAM 0058   FELTHAM    21.65\n",
       "305  26/03/2022    TFL TRAVEL CHARGE       TFL.GOV.UK/CP     7.20\n",
       "306  25/03/2022    TFL TRAVEL CHARGE       TFL.GOV.UK/CP     4.50\n",
       "\n",
       "[796 rows x 3 columns]"
      ]
     },
     "execution_count": 11,
     "metadata": {},
     "output_type": "execute_result"
    }
   ],
   "source": [
    "df = df[df['Amount']>0]\n",
    "df"
   ]
  },
  {
   "attachments": {},
   "cell_type": "markdown",
   "metadata": {},
   "source": [
    "### 2. Extracting the location Keyword from the description"
   ]
  },
  {
   "cell_type": "code",
   "execution_count": 12,
   "metadata": {},
   "outputs": [
    {
     "name": "stdout",
     "output_type": "stream",
     "text": [
      "Requirement already satisfied: requests in /Users/nirdeshacharya/miniconda3/envs/CreditCardCleaning/lib/python3.11/site-packages (2.28.2)\n",
      "Requirement already satisfied: charset-normalizer<4,>=2 in /Users/nirdeshacharya/miniconda3/envs/CreditCardCleaning/lib/python3.11/site-packages (from requests) (3.1.0)\n",
      "Requirement already satisfied: idna<4,>=2.5 in /Users/nirdeshacharya/miniconda3/envs/CreditCardCleaning/lib/python3.11/site-packages (from requests) (3.4)\n",
      "Requirement already satisfied: urllib3<1.27,>=1.21.1 in /Users/nirdeshacharya/miniconda3/envs/CreditCardCleaning/lib/python3.11/site-packages (from requests) (1.26.15)\n",
      "Requirement already satisfied: certifi>=2017.4.17 in /Users/nirdeshacharya/miniconda3/envs/CreditCardCleaning/lib/python3.11/site-packages (from requests) (2022.12.7)\n"
     ]
    }
   ],
   "source": [
    "!pip install requests"
   ]
  },
  {
   "cell_type": "code",
   "execution_count": 13,
   "metadata": {},
   "outputs": [],
   "source": [
    "#Getting the cities keyword from a url and setting as a list\n",
    "\n",
    "import requests\n",
    "import json\n",
    "\n",
    "cities_url = \"https://raw.githubusercontent.com/russ666/all-countries-and-cities-json/6ee538beca8914133259b401ba47a550313e8984/countries.json\"\n",
    "cities_json = json.loads(requests.get(cities_url).content.decode('utf8'))\n",
    "\n",
    "cities = set(cities_json.get('United Kingdom', []))\n"
   ]
  },
  {
   "cell_type": "code",
   "execution_count": 14,
   "metadata": {},
   "outputs": [
    {
     "name": "stdout",
     "output_type": "stream",
     "text": [
      "{'Temple', 'Westgate', 'Bromham', 'Studley', 'Hanley', 'Hanworth', 'Bidford-on-Avon', 'Doagh', 'Saxtead', 'Lisburn', 'Tile Hill', 'Murton', 'Henfield', 'Rosslea', 'Rivington', 'Greensted', 'Ullesthorpe', 'Gaydon', 'Gosfield', 'Porth', 'Sandycroft', 'Cowdenbeath', 'Wilmington', 'Winterborne Kingston', 'Westbury-sub-Mendip', 'Hemsworth', 'Whickham', 'Ashton-under-Lyne', 'Barley', 'Westcott', 'Maida Vale', 'Long Stratton', 'Bracknell', 'East Leake', 'Hailsham', 'Shireoaks', 'Faulkland', 'Tackley', 'Garston', 'Blunham', 'Invergordon', 'Askham', 'Minsterley', 'Itchen', 'Chorley', 'Wrington', 'Sandown', 'Kirkby in Ashfield', 'Ottershaw', 'Betchworth', 'Laxton', 'Oakamoor', 'Withernwick', 'Bilston', 'Millbrook', 'Stoke Climsland', 'Appley Bridge', 'Askern', 'Great Amwell', 'Sanderstead', 'West Ashby', 'Burton Pidsea', 'Walton on the Hill', 'Binsted', 'Lidlington', 'Elderslie', 'Aberdeen', 'Bembridge', 'Wadebridge', 'Codsall', 'Shepshed', 'Great Barton', 'Halesowen', 'Cranfield', 'Rothesay', 'Swansea', 'Barrow', 'Burford', 'Blackheath', 'Chestfield', 'Guthrie', 'Staverton', 'Spennymoor', 'Aberford', 'Rainham', 'Rotherfield', 'Clunderwen', 'Knutsford', 'Great Gransden', 'Boscastle', 'Houston', 'Alexandria', 'East Hanningfield', 'Dudley', 'Cockermouth', 'Horton Kirby', 'Rawmarsh', 'Southwold', 'Thornton', 'Sheffield', 'Port Sunlight', 'Barnsley', 'Chilton Trinity', 'Grasmere', 'Insch', 'Mildenhall', 'Bayble', 'Hersham', 'Runcorn', 'Selby', 'Harlow', 'Sturminster Newton', 'Mundesley', 'Sidcot', 'Mark', 'Hindley', 'Hazel Grove', 'Burgess Hill', 'Heckington', 'Cublington', 'Marnhull', 'Barnes', 'Hull', 'Heckmondwike', 'Milnathort', 'Stockton', 'Kinghorn', 'Brierfield', 'Farnborough', 'Llanharan', 'Bishopstoke', 'Shadoxhurst', 'Oving', 'Neath', 'Edwalton', 'Bilsthorpe', 'Kings Norton', 'North Leigh', 'New Quay', 'Hooke', 'Pershore', 'St Albans', 'Brough', 'Oxenhope', 'Bodmin', 'Lower Brailes', 'Kirkcaldy', 'Friskney', 'Little Gaddesden', 'Crayford', 'Llanfair-Dyffryn-Clwyd', 'Broom', 'Dolwyddelan', 'City of Westminster', 'Ormskirk', 'Swanage', 'Brownhills', 'Chipping Campden', 'Stepps', 'Mablethorpe', 'Gosport', 'Peterborough', 'Dover', 'Exmouth', 'Horndon on the Hill', 'Charing Cross', 'Keele', 'Caston', 'Earls Court', 'Bolsover', 'Swanland', 'Leek Wootton', 'Newry', 'Kilkeel', 'Darvel', 'Brentford', 'Hamilton', 'Barkway', 'Ballymena', 'Great Ryburgh', 'Sompting', 'Inchinnan', 'Powfoot', 'Hackbridge', 'Aldershot', 'Blackwater', 'Abergynolwyn', 'Goodmayes', 'Littlehampton', 'Mells', 'Kirkintilloch', 'Elgin', 'Pennington', 'Hitchin', 'Sileby', 'Tain', 'Sale', 'Whalley', 'Cotgrave', 'Holsworthy', 'Cromwell', 'Southbourne', 'Larne', 'Wokingham', 'Farndon', 'Holywell', 'Alnwick', 'Southwell', 'Stocksfield', 'Heysham', 'Bude', 'Atherstone', 'Mansfield Woodhouse', 'Stotfold', 'Wallsend', 'Corpach', 'Wold Newton', 'Antrim', 'Birnam', 'Bathgate', 'Etchingham', 'Whitnash', 'Malden', 'Southgate', 'Purfleet', 'Aldridge', 'Blaydon', 'Fladbury', 'Innerleithen', 'Yeadon', 'Aultbea', 'Downpatrick', 'Ashfield', 'Harrold', 'Fairford', 'Faversham', 'Bridgend', 'Strathmiglo', 'Heybridge', 'Builth Wells', 'Talybont', 'Hertford', 'Immingham', 'Cottingham', 'Lyme Regis', 'Barnham', 'Robertsbridge', 'Turnberry', 'Lossiemouth', 'Barrow upon Humber', 'Ballycastle', 'Crathorne', 'Killamarsh', 'Charlestown', 'Pittenweem', 'Bala', 'Tadmarton', 'Longridge', 'Atherton', 'Cockerham', 'Hartwell', 'Lambeth', 'Englefield Green', 'Ticehurst', 'Cheadle Hulme', 'Burnham-on-Sea', 'Ulceby', 'New Milton', 'Lavendon', 'Stourport On Severn', 'Tiptree', 'Northwich', 'Billesley', 'Hartfield', 'Rogiet', 'Stokesley', 'Marhamchurch', 'Owslebury', 'Swinton', 'Shifnal', 'Toddington', 'Heanor', 'Roehampton', 'Whitwell', 'Denton', 'Bonar Bridge', 'Wareham', 'East Down', 'Southminster', 'Birdbrook', 'Newlands', 'Welwyn', 'Oadby', 'Havering atte Bower', 'Easton', 'Bickleigh', 'Pocklington', 'Cumbernauld', 'Barking', 'Tregarth', 'Carluke', 'Capel', 'Great Dunmow', 'Marlow', 'Risley', 'Stroud', 'Hightown', 'Matching', 'Whitby', 'Upper Beeding', 'Belfast', 'Flordon', 'Weare', 'Cam', 'Padbury', 'Plymouth', 'Forfar', 'Cramlington', 'Sedgeberrow', 'Ruislip', 'Hoylake', 'Hambleden', 'Woodford', 'Kidderminster', 'Stratfield Mortimer', 'Richmond', 'Westhay', 'West Raynham', 'Gainsborough', 'Menheniot', 'Clacton-on-Sea', 'Shaftesbury', 'Whaley Bridge', 'Helensburgh', 'Newburgh', 'Belper', 'Bloomsbury', 'Lambourn', 'Cheam', 'Denny', 'Comber', 'Kirton in Lindsey', 'Chessington', 'York', 'Ashley', 'Belleek', 'Rochester', 'Egerton', 'Chertsey', 'Houghton on the Hill', 'Anstey', 'Princethorpe', 'Knowsley', 'Broadstairs', 'Ringwood', 'Redhill', 'Milford on Sea', 'Bromborough', 'Lutterworth', 'Northfleet', 'Skelmersdale', 'Witney', 'Kingswood', 'Studham', 'Broughty Ferry', 'Trimdon', 'Witham', 'Wolstanton', 'Bedminster', 'Hartlepool', 'Epsom', 'Caythorpe', 'Scalby', 'Rochford', 'Battle', 'Chatteris', 'Eastleigh', 'Wolverley', 'Kilmarnock', 'Stourbridge', 'Croydon', 'Corsham', 'Teynham', 'East Harling', 'Skegness', 'Medmenham', 'Princes Risborough', 'Boston Spa', 'Stretton on Fosse', 'Back', 'Teignmouth', 'Stalybridge', 'Pudsey', 'Ratcliffe on Soar', 'Derby', 'Cranleigh', 'Churchill', 'Gravesend', 'Rugby', 'Hilton', 'Llanidloes', 'Prestonpans', 'Gateshead', 'Aintree', 'Besthorpe', 'Barnoldswick', 'Carnmoney', 'Aberfeldy', 'Fangfoss', 'Fareham', 'Lindfield', 'Llanishen', 'Portree', 'Market Deeping', 'Countess Wear', 'Handcross', 'Millom', 'Gorebridge', 'Caerphilly', 'Magherafelt', 'Telford', 'Ashbourne', 'Duns', 'Goostrey', 'Coggeshall', 'Snodland', 'Easingwold', 'Bourne End', 'Pyle', 'St. Dogmaels', 'Ambleside', 'Shrewsbury', 'Larkhall', 'Ayr', 'Ramsey', 'Blyth', 'Merton', 'Halton', 'Rickmansworth', 'Lower Darwen', 'High Peak Junction', 'Brompton', 'Nailsea', 'Bangor-is-y-coed', 'Kirk Ella', 'Aviemore', 'Mexborough', 'Ponteland', 'Tetbury', 'Caldicot', 'Saint Neots', 'Mayfield', 'West Byfleet', 'New Southgate', 'Roche', 'Thornton Heath', 'Castle Douglas', 'Roxwell', 'Tenby', 'Melton Mowbray', 'Bungay', 'Accrington', 'Waterlooville', 'Wilmslow', 'Tollerton', 'Elmley Lovett', 'Harwell', 'Lowdham', 'West Wittering', 'Caxton', 'Harby', 'Heston', 'Dollar', 'Oare', 'Zeals', 'Kingussie', 'Greenford', 'Filey', 'Marden', 'Motherwell', 'Wigan', 'Ravenstone', 'Strathyre', 'Batley', 'Mallaig', 'Radcliffe on Trent', 'Newtownabbey', 'Broughton', 'City of London', 'Gamlingay', 'Corfe Mullen', 'Kilbirnie', 'Arlesey', 'Mossley', 'Old Windsor', 'Dunkeswell', 'Blackwood', 'Kelmarsh', 'Stanton', 'St Ives', 'Hereford', 'Meggies', 'Stratford', 'Walker', 'Church', 'Minster Lovell', 'Felixstowe', 'Seaford', 'Nafferton', 'Queensferry', 'Lostwithiel', 'Stoneleigh', 'Broadstone', 'Leigh-on-Sea', 'Martock', 'Dunoon', 'Duxford', 'Mitcheldean', 'Perth', 'Tywardreath', 'Wheathampstead', 'Chatham', 'Burton-on-Trent', 'Evesham', 'Church Gresley', 'Stoke Poges', 'Camberley', 'Broxburn', 'Purleigh', 'New Mills', 'Altrincham', 'Wilburton', 'Moulton St Michael', 'Brewood', 'Coventry', 'Tadley', 'Leyland', 'Olney', 'Blandford Forum', 'South Cerney', 'Londonderry', 'Tewin', 'Catherington', 'Cardiff', 'Axbridge', 'Bovey Tracey', 'Newton Abbot', 'Selkirk', 'Lawrencetown', 'Welwyn Garden City', 'Abergwynfi', 'Gaerwen', 'Long Eaton', 'Earlston', 'Radnage', 'Abersychan', 'Ardingly', 'Bromyard', 'Ballyclare', 'Laxfield', 'Weedon', 'Stoke', 'Llandrindod Wells', 'Marsham', 'Portslade-by-Sea', 'Emsworth', 'Blaina', 'Bramhall', 'Lesmahagow', 'Gorton', 'Blackford', 'Drayton Saint Leonard', 'Lincoln', 'South Killingholme', 'Stuartfield', 'Palmers Green', 'Ledbury', 'Clapham', 'Ludlow', 'Paisley', 'Matlock', 'Swanscombe', 'Kilsyth', 'Totton', 'Penzance', 'Grantham', 'Lifton', 'Rochdale', 'Send', 'Benson', 'Stutton', 'Hawkhurst', 'Warrenpoint', 'Ipswich', 'Somerset', 'Merthyr Mawr', 'Oswestry', 'Drighlington', 'Teddington', 'Templepatrick', 'Neasden', 'Nettlebed', 'Port Erroll', 'Bargoed', 'Salisbury', 'Egham', 'Stanbridge', 'Torpoint', 'Gipping', 'Oakford', 'Drymen', 'Humberston', 'Omagh', 'Shanklin', 'Alveston', 'Isleworth', 'Slapton', 'Fitzwilliam', 'Tenbury Wells', 'Napton on the Hill', 'Ardmillan', 'Llandudno', 'Henley-on-Thames', 'Laindon', 'Lanark', 'Derwen', 'North Moreton', 'Chellaston', 'Birchington', 'Iwerne Courtney', 'Mitcham', 'Royston', 'Sherborne', 'Berwick-Upon-Tweed', 'Flitwick', 'Chelmsford', 'Long Ditton', 'Shilton', 'Great Gidding', 'Withernsea', 'Dean', 'Smalley', 'Leighton Buzzard', 'Conway', 'Bosbury', 'Grays', 'Hemswell', 'Rustington', 'Stranmillis', 'Oswaldtwistle', 'Ferryhill', 'Bellshill', 'Fownhope', 'Wooburn', 'Drayton', 'Well', 'Sheringham', 'Brightlingsea', 'Winslow', 'Worsley', 'Thurleigh', 'Glossop', 'Grantown on Spey', 'Morden', 'Beaumaris', 'Glasgow', 'Blairgowrie', 'Bradfield St George', 'Milford Haven', 'Tillingham', 'Morecambe', 'Hatton', 'Belcoo', 'Haddenham', 'Much Hoole', 'Carlisle', 'Rhondda', 'Royal Wootton Bassett', 'Kirkliston', 'Banham', 'Jordanstown', 'Roydon', 'Sundon Park', 'Haydon Bridge', 'Amesbury', 'Metheringham', 'Patchway', 'Carnoustie', 'Spratton', 'Eastwood', 'Buckley', 'Norton', 'Sevenoaks', 'Carmarthen', 'Isham', 'Amersham', 'Woldingham', 'Bingham', 'Normandy', 'Braunstone', 'Hapton', 'South Hayling', 'Pulloxhill', 'Borehamwood', 'North Somercotes', 'Kenley', 'Ballingry', 'Storrington', 'Guildford', 'Clifton Hampden', 'Silverstone', 'Redbourn', 'Stockcross', 'Writtle', 'Weymouth', 'Aberfoyle', 'South Milford', 'Cricklade', 'Pwllheli', 'Uttoxeter', 'Renfrew', 'Yoxford', 'Chilton', 'Sedbergh', 'Menston', 'Pontardawe', 'Maybole', 'Taplow', 'Burythorpe', 'Upminster', 'Abingdon', 'Limekilns', 'Newport', 'Silsden', 'Hurstbourne Tarrant', 'Eastchurch', 'Hurworth', 'Tetsworth', 'Enfield', 'Tonbridge', 'Castleton', 'Aycliffe', 'Sheering', 'Bakewell', 'Neston', 'Hardham', 'Wincanton', 'Norton Lindsey', 'Akeley', 'Alresford', 'Cardigan', 'Cromer', 'Hockley', 'Beaulieu', 'Beccles', 'Buckfastleigh', 'Bury', 'Barwell', 'Willenhall', 'Cowden', 'Diddington', 'Langstone', 'Bekesbourne', 'Bothwell', 'Woodford Green', 'Ashdon', 'High Peak', 'Camelford', 'Kinglassie', 'Kelly', 'Colchester', 'Bridport', 'Norwich', 'Northrepps', 'Heswall', 'Wingate', 'Market Drayton', 'Rainworth', 'Penryn', 'Grimsargh', 'East Budleigh', 'Newhall', 'Bishopton', 'Belbroughton', 'Huish', 'Edwinstowe', 'Stoke Prior', 'Crieff', 'Merthyr Tydfil', 'Beaufort', 'Naseby', 'Moira', 'Carshalton', 'Portmadoc', 'Brandon', 'Gomersal', 'Beckton', 'Malpas', 'Highbridge', 'North Weald', 'Frensham', 'Hengoed', 'Enstone', 'Rottingdean', 'Felbridge', 'Tonyrefail', 'Bulford', 'Rogerstone', 'Bollington', 'Drumahoe', 'Westbury', 'Weston under Lizard', 'Beverley', 'Horsted Keynes', 'Rainhill', 'Wanstead', 'Ben Rhydding', 'Knebworth', 'Holmfirth', 'Silloth', 'Treorchy', 'Fraserburgh', 'Ryton', 'Dunstable', 'Barmston', 'Horndean', 'Middleton One Row', 'Newent', 'Beckingham', 'Inverkip', 'Cleckheaton', 'Cullen', 'Buckhurst Hill', 'Keighley', 'Bedale', 'Harpenden', 'Liss', 'Hawkwell', 'Nuneaton', 'Salford', 'Carnforth', 'Langport', 'Fintry', 'Barnet', 'Southampton', 'Hendon', 'Sunningdale', 'Edinburgh', 'Hingham', 'Whiteparish', 'Cambuslang', 'Whittlesey', 'Holyhead', 'Hebden Bridge', 'Muir of Ord', 'Cupar', 'Newton-le-Willows', 'Burnham on Crouch', 'Bootle', 'Cottenham', 'Waringstown', 'Ashtead', 'Bognor Regis', 'Brighouse', 'Ewhurst', 'Llansantffraid-ym-Mechain', 'Marske', 'Saint Brides Major', 'North Elmsall', 'Dereham', 'Donaghadee', 'Birkenhead', 'Huntingdon', 'Maldon', 'Wyke', 'Belvedere', 'Reed', 'Torquay', 'Port Talbot', 'Tunstall', 'Holborn', 'Walkden', 'Garstang', 'Wallingford', 'Brigg', 'Melbourne', 'Waltham Abbey', 'Liskeard', 'Glenshee', 'Walmer', 'Great Glemham', 'Arrochar', 'Draycott', 'Botley', 'Middlesbrough', 'Par', 'Nantwich', 'Pathhead', 'Thirsk', 'Droylsden', 'Parbold', 'Jedburgh', 'Thornton-in-Craven', 'Little Kimble', 'Sedgley', 'Pembroke Dock', 'Newcastle-under-Lyme', 'Alfold', 'Deptford', 'Ferndale', 'Levenshulme', 'Linlithgow', 'Royal Leamington Spa', 'Hursley', 'Tongham', 'Colyford', 'Fivemiletown', 'Mauchline', 'Kilmacolm', 'Histon', 'Brierley Hill', 'Dulverton', 'Kent', 'Nash', 'Harworth', 'Clevedon', 'Brasted', 'Capenhurst', 'Bishops Waltham', 'Otley', 'Groombridge', 'Macclesfield', 'Southam', 'Caddington', 'Darfield', 'Pencarreg', 'Ulverston', 'Wethersfield', 'Bridge', 'Croxley Green', 'Ramsey Saint Marys', 'Chippenham', 'Tranent', 'Clare', 'Billingham', 'Caister-on-Sea', 'Abbots Langley', 'Brayton', 'Bulkington', 'Greenfield', 'Colnbrook', 'Dromara', 'Girvan', 'Mere', 'Wrexham', 'Welling', 'West Kirby', 'Binfield', 'Cleveleys', 'Maghera', 'Hemel Hempstead', 'Hampton', 'Pontesbury', 'Redditch', 'Menai Bridge', 'Fleet', 'Chipping Sodbury', 'Thrapston', 'Bredbury', 'Rhayader', 'Bedford', 'Kimberley', 'Padiham', 'Stanhope', 'Dartford', 'Monkswood', 'Bangor', 'Camborne', 'Nutfield', 'Turriff', 'Acton', 'Selsey', 'Cranford', 'Smethwick', 'Scapa', 'Haddington', 'South Ockendon', 'Brockley Green', 'Pewsey', 'Low Ham', 'Dunbar', 'Donnington', 'Morriston', 'Adlingfleet', 'Fillongley', 'Malvern', 'Ponders End', 'Tynemouth', 'Lowton', 'Hawick', 'Little Eaton', 'Leatherhead', 'Draperstown', 'Knottingley', 'Montrose', 'Wheatley', 'Coed-Talon', 'Aberaeron', 'Dyce', 'Barrow in Furness', 'Elstead', 'Great Torrington', 'Bradford-on-Avon', 'Kirriemuir', 'Mobberley', 'Sarratt', 'Dolgelly', 'Orpington', 'Kirkby', 'Manchester', 'Monifieth', 'Penrice', 'Driffield', 'Saint Erme', 'New Cross', 'Coppull', 'Kempston', 'Totnes', 'West Wickham', 'East Cowes', 'Midford', 'Carterton', 'Wing', 'Waldringfield', 'Brook', 'Bishops Cleeve', 'New Barnet', 'Hillingdon', 'Upwell', 'Minster', 'Charfield', 'Headington', 'Wallasey', 'Middlewich', 'Chryston', 'Westerham', 'Lyndhurst', 'Arundel', 'Normanton', 'Belmont', 'Mill Hill', 'Alrewas', 'Oakhill', 'Loughor', 'Shepperton', 'Aughnacloy', 'Macduff', 'Tavistock', 'Rothbury', 'Leicester', 'Stawell', 'Saltash', 'Pelsall', 'Frimley', 'Betws', 'Cricklewood', 'Fort William', 'Islington', 'Westhoughton', 'Sudbury', 'Crook', 'Brighton', 'Broadway', 'North Waltham', 'Burwash', 'Totteridge', 'Winkleigh', 'Wigston', 'Kings Lynn', 'Frant', 'Dornoch', 'Chinnor', 'Melton', 'Woore', 'Hambleton', 'Llanwrtyd Wells', 'Newbridge', 'Carbrooke', 'Wicken', 'Hartpury', 'Cuffley', 'Rock', 'Pampisford', 'Byfleet', 'Walford', 'Bulwell', 'Holywood', 'Treherbert', 'Wattisfield', 'Kingsteignton', 'Portsmouth', 'Symington', 'Bexhill', 'Neilston', 'Upton', 'Cwmbran', 'Newton Aycliffe', 'Pilton', 'Bampton', 'Shrivenham', 'Widnes', 'Hornchurch', 'Alfreton', 'Tredegar', 'Mollington', 'Saltcoats', 'Cardonald', 'Barnwell', 'Snettisham', 'Great Billing', 'Anstruther', 'Salthouse', 'Coleford', 'Aylsham', 'Isleham', 'Lustleigh', 'Staindrop', 'Stocksbridge', 'North Kilworth', 'Woodhall Spa', 'Newhaven', 'Aberlour', 'Tarporley', 'Gresford', 'Stillington', 'Leeds', 'Wickersley', 'Conisbrough', 'Droitwich', 'Flint', 'Milnthorpe', 'Warwick', 'Harrow on the Hill', 'Attleborough', 'Kinross', 'Reydon', 'Frizington', 'Stanwell', 'Linton', 'Wootton', 'Higham on the Hill', 'Molesey', 'Alness', 'Saint Columb Major', 'Wyverstone', 'Lochgelly', 'Barton on Sea', 'Kinloch Rannoch', 'Wells', 'Hawley', 'Roade', 'Leominster', 'Watlington', 'Wadhurst', 'Scarborough', 'Dunning', 'Abertillery', 'Little Canfield', 'Lavant', 'Curdridge', 'Maiden Newton', 'Poulton le Fylde', 'Colwyn Bay', 'Midsomer Norton', 'North Newton', 'Hythe', 'Burntwood', 'Heathfield', 'Minchinhampton', 'Hawes', 'Budleigh Salterton', 'Helmsley', 'Dartmouth', 'Somersham', 'Annesley', 'Usk', 'Hartford', 'Crowborough', 'Gretna', 'Wembley', 'Bickenhill', 'Northleach', 'Sunbury-on-Thames', 'Brockworth', 'Cross in Hand', 'Ewelme', 'Worth', 'Feltham', 'Lymington', 'Hinton St George', 'Larbert', 'Minehead', 'Addington', 'Caistor', 'Daresbury', 'Truro', 'Twickenham', 'Frodsham', 'Bournville', 'Sawbridgeworth', 'Bermondsey', 'Nuffield', 'Mickleton', 'Wemyss Bay', 'Speldhurst', 'Seven Kings', 'Kyle of Lochalsh', 'Moulton', 'Leek', 'Johnstone', 'Ash Vale', 'Iver', 'Stanton Fitzwarren', 'Watford', 'Reddish', 'Chislehurst', 'Bonnyrigg', 'Steeple Claydon', 'Newick', 'Seascale', 'Dalry', 'Bebington', 'Soham', 'Weedon Bec', 'Sandy', 'Aldermaston', 'Gargrave', 'Draycott in the Moors', 'Shefford', 'Duddington', 'Seacroft', 'Airdrie', 'Clackmannan', 'Newtown', 'Partridge Green', 'Seaham', 'Buckland', 'Aberkenfig', 'Norbury', 'Benburb', 'Woking', 'Beeston', 'Dungannon', 'Preston', 'Sutton Bridge', 'Milford', 'Myddle', 'Prestatyn', 'Longton', 'Oxted', 'Liversedge', 'Stone Allerton', 'Appleby', 'Calne', 'Southwark', 'Stanley', 'Harleston', 'Lenham', 'Pontypool', 'Warfield', 'Biddulph', 'Cheddar', 'Newbold', 'Elsworth', 'Campbeltown', 'Bayford', 'Wix', 'West Clandon', 'Northenden', 'Magheralin', 'Shaw', 'Burnley', 'Sturmer', 'Totternhoe', 'Bluntisham', 'Kinnerley', 'Lupton', 'Bagillt', 'Crossgar', 'Wragby', 'Wirksworth', 'Barmouth', 'Amlwch', 'Llandrillo', 'Kingham', 'Arley', 'Gillingham', 'High Bentham', 'Ryde', 'Burstwick', 'Ottery St Mary', 'Stonesfield', 'Avonmouth', 'Hamble', 'Llantwit Major', 'Prudhoe', 'Southsea', 'Hucknall under Huthwaite', 'East Kilbride', 'Llanddulas', 'Loddington', 'Eyemouth', 'Whitland', 'Hedgerley', 'Abercynon', 'Erith', 'Ufford', 'Worcester Park', 'Balerno', 'Radcliffe', 'Hindon', 'Rock Ferry', 'Surrey', 'Moneymore', 'Romford', 'Westfield', 'Hever', 'Quedgeley', 'Widmerpool', 'Cadbury', 'Barrow upon Soar', 'Bourne', 'Sittingbourne', 'Barton in Fabis', 'Hexham', 'Llanbedr', 'Manor', 'Shipley', 'Burwell', 'Withington', 'Windlesham', 'Maryport', 'Three Legged Cross', 'Langho', 'Reigate', 'Greenock', 'Grendon', 'Clifton', 'Northolt', 'Kidlington', 'Callington', 'Irvine', 'Witley', 'Uphall', 'Old Colwyn', 'Hazelwood', 'Horsham', 'Hebburn', 'Canewdon', 'Warden', 'Wymondham', 'Shalford', 'Whisby', 'Hammersmith', 'Bradford', 'Pencaitland', 'Oldham', 'Banff', 'East Peckham', 'Wheaton Aston', 'Alford', 'Stonehaven', 'Brede', 'Fordingbridge', 'Great Fransham', 'Barry', 'Finchampstead', 'Aberdare', 'Paignton', 'Newcastle Emlyn', 'Ardrossan', 'Penwortham', 'Steyning', 'Workington', 'Swaffham', 'Clydach', 'Musselburgh', 'Grove', 'Silverdale', 'Lyminge', 'Dovercourt', 'Marr', 'Hastings', 'Royal Tunbridge Wells', 'South Shields', 'Egremont', 'Chinley', 'Water Orton', 'Porthcawl', 'Bramford', 'Tisbury', 'Pontypridd', 'Boroughbridge', 'Thornaby', 'Caversham', 'Kendal', 'Laurencekirk', 'Chapeltown', 'Aboyne', 'Uxbridge', 'Speke', 'Alderley Edge', 'Maulden', 'Winterbourne Dauntsey', 'Stanford', 'Blaenau-Ffestiniog', 'South Molton', 'Auchinleck', 'Corby', 'Exminster', 'Maesteg', 'Treforest', 'Burry Port', 'Newport Pagnell', 'Seghill', 'Blaenwaun', 'Midhurst', 'Pilham', 'Currie', 'Datchet', 'Stoke Newington', 'Forest Row', 'Ashby de la Zouch', 'Bodelwyddan', 'Hadlow', 'Craven Arms', 'Buxted', 'Whitefield', 'Havant', 'Sowerby Bridge', 'Carrowdore', 'Beauly', 'Dagenham', 'Skilgate', 'Buckingham', 'Lochmaddy', 'Angmering', 'Crawley', 'Framlingham', 'Coppenhall', 'Papworth Everard', 'Plaistow', 'Wednesbury', 'Weston-super-Mare', 'Tiverton', 'Gretna Green', 'Presteigne', 'Bucknell', 'Dorchester', 'Henstridge', 'Pevensey', 'Little Hulton', 'Annalong', 'Paddock Wood', 'Whetstone', 'Duffus', 'Llandeilo', 'Leuchars', 'Largs', 'Ballymoney', 'Congleton', 'Warmington', 'Banchory', 'Eton', 'Cumnock', 'Brooke', 'Gunnislake', 'Offord Cluny', 'Moreton', 'Friern Barnet', 'Somerton', 'Barbaraville', 'Cirencester', 'St Austell', 'Cynwyd', 'Daventry', 'Stoke by Nayland', 'Sheerness', 'Horwich', 'Holmes Chapel', 'Coupar Angus', 'Bourton on the Water', 'Solihull', 'Star', 'Newtownards', 'Axminster', 'Huntly', 'Baildon', 'Askam in Furness', 'Heythrop', 'Four Marks', 'Tipton', 'Little Lever', 'Inverkeilor', 'Gloucester', 'Gorseinon', 'Dronfield', 'Biggin Hill', 'Spondon', 'Laugharne', 'Farningham', 'Eltham', 'Strood', 'Willaston', 'Langley', 'Weaverham', 'Birmingham', 'Urmston', 'Northampton', 'Denham', 'Washington', 'Shirebrook', 'Edenbridge', 'Walsall', 'Braintree', 'Brandesburton', 'Clun', 'Fishguard', 'Northwood', 'Dymock', 'Pulborough village hall', 'Thakeham', 'Hungerford', 'Farnham', 'Little Milton', 'Charlwood', 'Wyton', 'Choppington', 'Arthog', 'Great Baddow', 'Hawarden', 'Hook', 'Grangemouth', 'Ingatestone', 'Luton', 'Chingford', 'Great Staughton', 'Chepstow', 'Handforth', 'Dundee', 'Bournemouth', 'Bedlington', 'Aston Clinton', 'Knighton', 'Plumstead', 'Wickford', 'Chalgrove', 'Waltham', 'Briton Ferry', 'Dukinfield', 'Burnopfield', 'Towcester', 'Buckie', 'Maerdy', 'Wantage', 'Welshpool', 'Appleford', 'Newtonmore', 'Stansted', 'Corringham', 'Dawley', 'High Blantyre', 'Comrie', 'Marcham', 'Wellington', 'Butterton', 'Warlingham', 'Market Harborough', 'Cawston', 'Dunkeld', 'Christchurch', 'New Romney', 'Darwen', 'Heywood', 'Staplehurst', 'Brackley', 'Gourock', 'Stowe', 'Leitholm', 'Loudwater', 'Wallington', 'Worcester', 'Llangattock', 'Horbury', 'Pembroke', 'Yate', 'Crewe', 'Landrake', 'Eccles', 'Fringford', 'Llanfyllin', 'Lympsham', 'Haywards Heath', 'Bookham', 'Fakenham', 'Halifax', 'Gayton Thorpe', 'Old Malton', 'Enniskillen', 'Potters Bar', 'Great Chesterford', 'Eversholt', 'Ellington', 'Ticknall', 'Great Yarmouth', 'Lichfield', 'Fishburn', 'Mid Calder', 'Wraysbury', 'Taynuilt', 'Uppingham', 'Dromore', 'Kelso', 'Woburn Sands', 'Nantyglo', 'Steeton', 'Wythenshawe', 'Wolverhampton', 'Haslingden', 'Horncastle', 'Pitsford', 'St Asaph', 'Broadwas', 'New Ferry', 'Tillicoultry', 'Gosforth', 'Aylesbury', 'Lechlade', 'Yeovil', 'Kelbrook', 'Mountsorrel', 'Llangennech', 'Staple', 'Anlaby', 'Sprowston', 'Seaview', 'Roath', 'Verwood', 'Failsworth', 'Ampthill', 'Colyton', 'Sutton in Ashfield', 'Felsted', 'Easington', 'Craigavon', 'Kennington', 'Blackpool', 'Stallingborough', 'Ebbw Vale', 'Narberth', 'Moreton in Marsh', 'Cookham', 'Herriard', 'Denbigh', 'Standlake', 'Claverdon', 'Melrose', 'Skelmorlie', 'Hayle', 'Crumlin', 'Bacup', 'Rowhedge', 'Balloch', 'Godstone', 'Lindal in Furness', 'Kedington', 'Little Barningham', 'Port Glasgow', 'Howden', 'Albrighton', 'Bishopstrow', 'Avoch', 'Northfield', 'Rushden', 'Goring', 'Covent Garden', 'Liverpool', 'Marlborough', 'Wednesfield', 'Stockport', 'Cooksbridge', 'Biddenden', 'Edenfield', 'Keresley', 'Rowlands Gill', 'East Ham', 'Ely', 'Box', 'Wilshamstead', 'Silsoe', 'Halwell', 'Ellesmere Port', 'Botesdale', 'Bainton', 'Augher', 'Sutton on Hull', 'Brixworth', 'Knaresborough', 'Andover', 'Linthwaite', 'West Malling', 'West Langdon', 'Eynsham', 'Hinckley', 'Corfe Castle', 'Faringdon', 'Twyford', 'Hurstpierpoint', 'Henlow', 'Sandwell', 'Selston', 'West Kilbride', 'Mochdre', 'Bruton', 'Ripon', 'Peterhead', 'Hellesdon', 'East Grinstead', 'Brechin', 'Staines', 'Lydbury North', 'Chichester', 'Ystrad Mynach', 'Kensington', 'Sully', 'West Calder', 'New Buckenham', 'Timperley', 'Tilehurst', 'Tamworth', 'Purley', 'Stevenston', 'Syston', 'Hilderstone', 'Wem', 'Catford', 'Exeter', 'Woodmancote', 'Wentworth', 'Sleaford', 'Crookham', 'Rotherham', 'Old Basing', 'Newbiggin-by-the-Sea', 'Market Rasen', 'Bottesford', 'Desborough', 'Houghton-le-Spring', 'Paul', 'Todmorden', 'Caernarfon', 'Hatch', 'Fowey', 'Trowbridge', 'Gorleston-on-Sea', 'Whitstable', 'Billericay', 'Dollis Hill', 'Sacriston', 'Cottered', 'Arnold', 'Winnersh', 'Heriot', 'Biggar', 'Newton Stewart', 'Methil', 'Penn', 'Annan', 'Rhoose', 'Maghull', 'Dunchurch', 'Cheltenham', 'Kennoway', 'Trent', 'Handsworth', 'Trehafod', 'Lochwinnoch', 'Gatwick', 'Biggleswade', 'Chapel en le Frith', 'Eagle', 'Harlaxton', 'Portlethen', 'Selborne', 'Upper Slaughter', 'Porthleven', 'Southwater', 'Weobley', 'Newark on Trent', 'Whyteleafe', 'Saxmundham', 'Halewood', 'Chalfont Saint Peter', 'Maidenhead', 'Wellingborough', 'London', 'Ross on Wye', 'East Hoathly', 'Ilchester', 'Armadale', 'Harrow', 'Painswick', 'Henley', 'North Ferriby', 'Woodley', 'Meifod', 'Polmont', 'Hathersage', 'Milton', 'Dinas Powys', 'Coalisland', 'Rowde', 'Baldock', 'Great Missenden', 'Lytham', 'Alva', 'East Molesey', 'Willington Quay', 'Dingwall', 'Mount Bures', 'Bridgemary', 'Humbie', 'North Petherton', 'Chasetown', 'Whitchurch', 'Llandovery', 'Houghton Regis', 'Burton', 'Beaworthy', 'Goodwick', 'Llanelli', 'Redcar', 'Northop', 'Kneeton', 'Chilcompton', 'Fulham', 'Tilbury', 'Dunblane', 'Stafford', 'Bolney', 'Scunthorpe', 'Cullompton', 'Stowmarket', 'Kirkham', 'Deighton', 'Pleshey', 'Shotts', 'Bishopbriggs', 'Littleborough', 'Froggatt', 'Wimborne Minster', 'Prestwick', 'Claygate', 'Pinner', 'Graveley', 'Haltwhistle', 'South Petherton', 'Preesall', 'Westleigh', 'Ashen', 'Horbling', 'Sutton', 'Gosberton', 'Swaythling', 'Chester-le-Street', 'Cogenhoe', 'Bexleyheath', 'Poplar', 'Square', 'Overton', 'Spittal', 'Saint Annes on the Sea', 'Loppington', 'Morley', 'Tadworth', 'Smarden', 'Helens Bay', 'Croston', 'Bignor', 'Wargrave', 'Dewsbury', 'Leigh', 'Criccieth', 'Risca', 'Oxford', 'Calstock', 'Rayne', 'Sidmouth', 'Southend-on-Sea', 'Eccleshall', 'North Tawton', 'Holmewood', 'Worksop', 'Inverness-shire', 'Freckleton', 'Kirkby Stephen', 'Perivale', 'Clutton', 'Freshwater', 'Longniddry', 'Melksham', 'Burgh le Marsh', 'The Hyde', 'Whittlebury', 'Horam', 'Boxley', 'Brigstock', 'Inverkeithing', 'Thame', 'Ickenham', 'Coulsdon', 'Bagshot', 'Saint Leonards-on-Sea', 'Leiston', 'Prestwich', 'Horsmonden', 'Llanfairfechan', 'Willesden', 'Thetford', 'Meesden', 'Barton-le-Clay', 'Addlestone', 'Prees', 'Headcorn', 'West Horsley', 'Buckden', 'Wales', 'Whitley Bay', 'Basingstoke', 'Lancing', 'Crediton', 'Clovenfords', 'Hennock', 'Winnington', 'Ashmore', 'Fauldhouse', 'Oldbury', 'Ruthin', 'Highbury', 'Beaminster', 'Spalding', 'Abberton', 'Wroughton', 'Babraham', 'Hill', 'Woolwich', 'South Benfleet', 'Old Buckenham', 'Bordesley', 'Bridgham', 'Kirkconnel', 'Kirkcudbright', 'Treharris', 'Wombourne', 'Braunton', 'Malmesbury', 'Clitheroe', 'Callander', 'Bath', 'Lancaster', 'Benllech', 'Oakley', 'Rutherglen', 'Tandragee', 'Broxbourne', 'Patrington', 'Bramley', 'Polegate', 'Billingshurst', 'Coalville', 'Lauder', 'Liphook', 'Reepham', 'Melton Constable', 'Dundonald', 'Bonnybridge', 'Middleton', 'East Retford', 'Rhyl', 'Seale', 'Hatherleigh', 'Ventnor', 'Hartley', 'Monkton', 'Alton', 'Pitlochry', 'Portrush', 'Coatbridge', 'Malton', 'Nassington', 'Berkhamstead', 'Woodsetts', 'Westleton', 'Wotton-under-Edge', 'Llwynypia', 'Falkirk', 'Llangollen', 'Powick', 'Charmouth', 'Stony Stratford', 'Newton on Trent', 'Frithville', 'Stalham', 'Woolacombe', 'Bideford', 'Wealdstone', 'Rawtenstall', 'Clydebank', 'Goole', 'Ulcombe', 'Earnley', 'Medstead', 'Surbiton', 'Jarrow', 'Gretton', 'Castlereagh', 'Effingham', 'Aghalee', 'Ellon', 'Warton', 'Dumbleton', 'Thorpe St Peter', 'Galston', 'Balham', 'Biddenham', 'Weybridge', 'Cosham', 'Ware', 'Cookstown', 'Troon', 'Fairlight', 'Widdrington', 'Steventon', 'Bierton', 'Hackney', 'Rosyth', 'Eastham', 'Oldmeldrum', 'Moseley', 'Fochabers', 'Shildon', 'Bransgore', 'West Mersea', 'Rugeley', 'Chiswick', 'Okehampton', 'Arbroath', 'Christleton', 'Lewisham', 'Settle', 'Hampton Lucy', 'Brecon', 'Deal', 'East Stour', 'Uddingston', 'West Cowes', 'Barnstaple', 'Carrickfergus', 'Stretford', 'East Hagbourne', 'Hadlow Down', 'Altham', 'Dorridge', 'Otterburn', 'Polperro', 'Litherland', 'Hillside', 'Kingston Seymour', 'Stranraer', 'Llanrwst', 'Roffey', 'Halstead', 'Buntingford', 'Penshurst', 'Spetisbury', 'Woodhouse', 'Meopham', 'Penrith', 'Slawitt', 'Meanwood', 'Kingston', 'Chadwell', 'Burntisland', 'Nordelph', 'Tarleton', 'East Challow', 'Crick', 'Shoreham-by-Sea', 'Padstow', 'Ammanford', 'Mayfair', 'Kirby Cross', 'Newmarket', 'Llanfyrnach', 'Ilford', 'North Shields', 'Aylesford', 'Higham Ferrers', 'Edgware', 'High Wycombe', 'Kings Sutton', 'Newham', 'West Grinstead', 'Grateley', 'Aston', 'Romsey', 'Sandiacre', 'Finchley', 'Sandwich', 'Portglenone', 'Peebles', 'Peterlee', 'Blakeney', 'Stifford', 'Finedon', 'Bentley', 'North Berwick', 'Weald', 'Ystalyfera', 'Guiseley', 'Stoke upon Tern', 'Dorney', 'Cleator', 'Petworth', 'Chester', 'Rathfriland', 'Sandhurst', 'Lapworth', 'Moorsholm', 'Brimpton', 'Wombwell', 'Church Stretton', 'East Keal', 'Kelty', 'Measham', 'Rimington', 'Appleton', 'Grimsby', 'Drumchapel', 'Rowley Regis', 'Much Hadham', 'Greenwich', 'Skelton', 'Streatham', 'Chaddesden', 'Chipping Ongar', 'Eye', 'Beckenham', 'Privett', 'Bridgwater', 'Wetherby', 'Greenhithe', 'Juniper Green', 'Tansley', 'Carlton', 'South Brewham', 'Tollard Royal', 'Whitton', 'Waltham Cross', 'Bolton', 'Stock', 'Pendlebury', 'Potterspury', 'Kidsgrove', 'Cambusnethan', 'Highcliffe', 'Lymm', 'Brockenhurst', 'Herne Bay', 'Shotton', 'Dawlish', 'Mytholmroyd', 'Stanground', 'South Normanton', 'Elland', 'Hemingstone', 'Hucknall Torkard', 'Portstewart', 'Ilkeston', 'Valley', 'Bradwell on Sea', 'Highworth', 'Sunderland', 'High Legh', 'Birtley', 'Weston', 'Childwall', 'Dursley', 'Itchen Abbas', 'Theydon Bois', 'Long Buckby', 'Clarbeston Road', 'Gordon', 'Prescot', 'Talgarth', 'East Boldon', 'Saint Ives', 'Hatfield', 'Harlech', 'Bowdon', 'Tempo', 'Brixton Hill', 'Irlam', 'Aberystwyth', 'Honingham', 'East Linton', 'Oxshott', 'Sunninghill', 'Windermere', 'Puckeridge', 'Windsor', 'East Barnet', 'Ashton in Makerfield', 'Brentwood', 'Burnham', 'Crossgates', 'East Malling', 'Huntspill', 'Borough Green', 'Holt', 'Hornsea', 'Islip', 'Leyton', 'Gargunnock', 'Grange', 'Nelson', 'Lytchett Minster', 'Carlton le Moorland', 'Hoddesdon', 'Charlton on Otmoor', 'Epping', 'Long Melford', 'Droxford', 'Irthlingborough', 'Mold', 'Raynes Park', 'Thatcham', 'Plaitford', 'Whitburn', 'Golborne', 'Ormesby', 'Galashiels', 'Repton', 'Coalbrookdale', 'Heath', 'Eastington', 'Portaferry', 'Redruth', 'Drayton Bassett', 'Falkland', 'Fleetwood', 'Weston in Gordano', 'Kelvedon', 'Taunton', 'Ramsgate', 'Ushaw Moor', 'Buxton', 'West Row', 'Tenterden', 'Bishop Burton', 'Keynsham', 'Walgrave', 'Wotton Underwood', 'Bridlington', 'Dungiven', 'Lubenham', 'Sutton Coldfield', 'Ellesmere', 'Hayes', 'Moorside', 'Rye', 'Carrbridge', 'Needingworth', 'Coleraine', 'Alcester', 'Leconfield', 'Sutton on the Hill', 'Hove', 'Reading', 'Huyton', 'Lochgilphead', 'Boston', 'Elloughton', 'Whitehouse', 'Poynton', 'Pentraeth', 'Kilwinning', 'Trusthorpe', 'Bingley', 'Armagh', 'Oundle', 'Ballynahinch', 'Castlewellan', 'Tayport', 'Loanhead', 'Beer', 'Stewarton', 'Sandbach', 'Auchterarder', 'Littlebury', 'Renton', 'Shipston on Stour', 'March', 'Tewkesbury', 'Bransford', 'Headley', 'Pencoed', 'Hadleigh', 'Stockton-on-Tees', 'Blackburn', 'Stirling', 'Moston', 'Urchfont', 'Streatley', 'Bow', 'Crofton', 'Plockton', 'Earls Colne', 'Talsarnau', 'Giggleswick', 'Ringmer', 'Lisnaskea', 'Stow', 'Radlett', 'Winchester', 'Redland', 'Chilwell', 'Ashby de la Launde', 'Cranbrook', 'Doune', 'Southwick', 'Wrangaton', 'Thurso', 'Inverurie', 'Garrison', 'Hitcham', 'Beaumont', 'Mountain Ash', 'Wakefield', 'Wroxall', 'Downham Market', 'Haydock', 'Cleator Moor', 'Erdington', 'Auchtermuchty', 'Machynlleth', 'Swalwell', 'Trefonen', 'Harlesden', 'Salfords', 'Sutton Courtenay', 'Kirtlington', 'Hedon', 'Walton-on-the-Naze', 'South Brent', 'Bletchley', 'Cobham', 'Swynnerton', 'Barnard Castle', 'Holbeach', 'Gullane', 'Henham', 'Warminster', 'South Elmsall', 'Leven', 'Tweedmouth', 'Ifield', 'Manningtree', 'Ripponden', 'Nottingham', 'Voe', 'Broseley', 'Threlkeld', 'Sutton on Trent', 'Martin', 'North Hykeham', 'East Bergholt', 'Llanymynech', 'Westgate on Sea', 'Ascot', 'Hunstanton', 'Denby', 'Thorrington', 'Dingestow', 'Milton Keynes', 'Newbury', 'Oulton', 'Littleport', 'St Helens', 'Longdown', 'Rhos-on-Sea', 'Wrangle', 'Barton upon Humber', 'Shirehampton', 'Newcastle', 'Portadown', 'Tendring', 'Slough', 'Darlington', 'Essendon', 'Burghclere', 'Huddersfield', 'Dalton in Furness', 'Lewes', 'Saundersfoot', 'Lee', 'Birchanger', 'Ramsbottom', 'Beal', 'Honiton', 'Tring', 'Pickering', 'Caersws', 'Stamford', 'Checkley', 'Glasdrumman', 'Ripley', 'Letchworth', 'Bristol', 'Whittlesford', 'Connahs Quay', 'Cannock', 'Newquay', 'Devizes', 'Ramsbury', 'Hillsborough', 'Crosby', 'Cinderford', 'Forres', 'Longstanton', 'Ossett', 'Croughton', 'Worthing', 'Lingfield', 'Keswick', 'Fulmer', 'Lockerbie', 'Hornsey', 'Guisborough', 'Byfield', 'Ketley', 'Ruabon', 'Higher Bebington', 'Doncaster', 'Bacton', 'Canterbury', 'Thames Ditton', 'Lerwick', 'Ashburton', 'Banstead', 'Mattishall', 'Clayton West', 'Banbridge', 'Godalming', 'Beith', 'Shawbury', 'Wrawby', 'Masham', 'Farmborough', 'West Bromwich', 'Aveley', 'Whitehaven', 'Stanmore', 'Spilsby', 'Brenchley', 'Ivybridge', 'Broad Blunsdon', 'Sheldon', 'Brimscombe', 'Cuckfield', 'Lowestoft', 'Helston', 'Barrowford', 'Margate', 'Saint Agnes', 'Whitbourne', 'Girton', 'Rothwell', 'Winsford', 'Aldeburgh', 'Partington', 'Pinxton', 'Kingswinford', 'Winlaton', 'Catterick', 'Castleford', 'Kings Langley', 'Stevenage', 'Launceston', 'Tarbert', 'Esher', 'Pontefract', 'South Hetton', 'Portchester', 'Stisted', 'Meldreth', 'Sanquhar', 'Sedgefield', 'Yarm', 'Portishead', 'Swavesey', 'Kimbolton', 'Burslem', 'Farnham Royal', 'Whitwick', 'Banbury', 'Newport-On-Tay', 'Bedworth', 'Alsager', 'Aberchirder', 'Shardlow', 'Gorslas', 'Clavering', 'Marple', 'Epping Green', 'Yelverton', 'Coseley', 'Myton on Swale', 'Bettws', 'Rainford', 'Ballybogy', 'Market Weighton', 'Clipstone', 'Compton Dundon', 'Kidwelly', 'Empingham', 'Pontycymer', 'More', 'Herstmonceux', 'Templecombe', 'Whimple', 'Castlederg', 'Crowthorne', 'Moss', 'Dinnington', 'Ferryside', 'Edgbaston', 'Bloxwich', 'Swindon Village', 'Ashington', 'Llwyngwril', 'Great Waldingfield', 'Queenborough', 'Rowlands Castle', 'Wickham Market', 'Hilborough', 'Lakenheath', 'Postling', 'Norham', 'Farnworth', 'Chesterfield', 'Bowes', 'Cowbridge', 'Elstree', 'Kenilworth', 'Monmouth', 'Saffron Walden', 'Shoeburyness', 'Longfield', 'Milton on Stour', 'Caterham', 'Beaconsfield', 'Wisbech', 'Falmouth', 'Harwich', 'Pembury', 'Bugbrooke', 'Chesham', 'Colne', 'River', 'Lee-on-the-Solent', 'Consett', 'Hessle', 'Tadcaster', 'Ilkley', 'Cliffe', 'Northallerton', 'Durham', 'Southall', 'Earley', 'Manton', 'Cowley', 'Loughton', 'Stone', 'Conon Bridge', 'Godmanchester', 'Folkestone', 'Kilbarchan', 'Stiffkey', 'Harefield', 'Killin', 'Watton', 'Swindon', 'Southport', 'Dalbeattie', 'Nettleton', 'Crowland', 'Beckley', 'Eastbourne', 'Eastcote', 'Greenhead', 'Martley', 'Kingskerswell', 'Odiham', 'Haslemere', 'Woodstock', 'Snaresbrook', 'Gnosall', 'Kelsall', 'Sonning', 'Castle Cary', 'Earlham', 'Waddesdon', 'Ridingmill', 'Egton', 'Ripe', 'Louth', 'Saint Clears', 'Worle', 'Heathrow', 'Thurston', 'Tonypandy', 'Kinmel', 'Petersfield', 'Chelsfield', 'Chilbolton', 'Cardross', 'Beach', 'Lydney', 'Stonehouse', 'Yatton', 'Wymeswold', 'Burscough', 'Bewdley', 'Benenden', 'Wickham Bishops', 'East Preston', 'Lurgan', 'Skipton', 'Unstone', 'Hanwell', 'Bozeat', 'South Carlton', 'Tottenham', 'Kettering', 'Longhope', 'Peterculter', 'Granby', 'Abergavenny', 'Looe', 'Pencader', 'Seend', 'Walton on Thames', 'Bisley', 'Ashwell', 'Camberwell', 'Abergele', 'Crewkerne', 'Bildeston', 'Chartham', 'Linton upon Ouse', 'Birstall', 'Dunfermline', 'Brookland', 'Wick', 'Inveraray', 'Glastonbury', 'Cross Keys', 'Hindhead', 'Markfield', 'Sparsholt', 'Llantrisant', 'Upton upon Severn', 'Edgefield', 'Slinfold', 'Penkridge', 'Bridgnorth', 'Montgomery', 'Bushey', 'Sherfield upon Loddon', 'Blaenavon', 'Bowness-on-Windermere', 'Dulwich', 'South Cave', 'Treuddyn', 'Limavady', 'Midgham', 'Llanwrda', 'Lyng', 'Piddington', 'West Linton', 'Stockbridge', 'Great Milton', 'Berkeley', 'Corbridge', 'Baslow', 'New Tredegar', 'Watchfield', 'Didcot', 'Corwen', 'Tatsfield', 'Kilbride', 'Crosshouse', 'Penarth', 'Seaton', 'Blewbury', 'Otford', 'Cheadle', 'Monyash', 'Wishaw', 'Llandudno Junction', 'Bury St Edmunds', 'Morpeth', 'Sidlesham', 'Ystradgynlais', 'Stromness', 'Paston', 'Dalkeith', 'Chipstead', 'East Dulwich', 'Ball', 'Eaglesham', 'Downend', 'Newcastle upon Tyne', 'Durrington', 'Sidcup', 'Worminghall', 'Tattershall', 'Kingsbridge', 'East Tilbury', 'Keith', 'Stornoway', 'Loughborough', 'Ormiston', 'Shenfield', 'Willingale Doe', 'Tyldesley', 'Kirkwall', 'Tideswell', 'Wrea Green', 'Victoria', 'Edmonton', 'Boreham', 'Inverness', 'Oakham', 'Horrabridge', 'Stratford-upon-Avon', 'Maidstone', 'Bletchingley', 'Strathaven', 'Dumfries', 'Ford', 'Haverfordwest', 'North Walsham', 'Porlock', 'Bealings', 'Berwick', 'Shinfield', 'Crickhowell', 'Stow on the Wold', 'Brampton', 'High Halden', 'Stanstead', 'Cambridge', 'Wickham', 'Wimbledon', 'Leyburn', 'Shotley Gate', 'Quinton', 'Bishop Auckland', 'Calverton', 'Mirfield', 'Douglas', 'Grendon Underwood', 'Astley', 'Much Wenlock', 'Alston', 'Greenisland', 'Potton', 'Stoke-on-Trent', 'Turvey', 'Glentham', 'Cheshunt', 'Diss', 'Norwood', 'Bicester', 'Llanon', 'Theale', 'Mansfield', 'Lower Beeding', 'Burbage', 'Watchet', 'Ash', 'Woodham Ferrers', 'St Andrews', 'Formby', 'London Borough of Wandsworth', 'Kibworth Harcourt', 'Frome', 'London Borough of Bromley', 'Chulmleigh', 'Dyserth', 'Cross', 'Ashford', 'Fressingfield', 'Hednesford', 'Church Leigh', 'Winton', 'Maryhill', 'Shepton Mallet', 'Gifford', 'Ruddington', 'Wilnecote', 'Garth', 'Drybrook', 'Anniesland', 'Penicuik', 'Blidworth', 'Perranporth', 'Poole', 'Llantwit Fardre', 'Boldon Colliery', 'Barton under Needwood', 'Waterbeach', 'Haverhill', 'Highway', 'Alvechurch', 'Frinton-on-Sea', 'Crymych', 'Chacombe', 'Lampeter', 'Warrington', 'Castle Donington', 'Plymstock', 'Uckfield', 'Willingham', 'Basildon', 'West Rudham', 'Keston', 'Glenrothes', 'Saint Bees', 'Hyde', 'Atworth', 'Mount Hamilton', 'Cradley', 'Rawreth', 'Walthamstow', 'Hotham', 'Saltburn-by-the-Sea', 'Woodbridge', 'Nairn', 'Wigton', 'Burley', 'East Horsley', 'Ibstock', 'Godmersham', 'Ilfracombe', 'Bromsgrove', 'Wilden', 'Rayleigh', 'Alloa', 'Shelford', 'Goudhurst', 'Bidston', 'Dunmurry', 'Chard', 'Ilminster', 'Swadlincote', 'Willington', 'Darlaston', 'Oban', 'Radstock', 'Glenboig', 'Leysdown-on-Sea', 'Sawley', 'Nutley', 'Dorking', 'Horley', 'Dumbarton', 'Hopwood', 'Mendlesham', 'Hassocks', 'Kingsland', 'Chigwell', 'Milltimber', 'Harrogate', 'Duffield', 'Hermitage', 'London Borough of Hounslow', 'Bawtry', 'Brixham', 'Hagley', 'Llangefni', 'Little Paxton', 'Chandlers Ford', 'Wendover', 'Thornbury', 'Eaglesfield', 'Wath upon Dearne', 'Harold Wood', 'Randalstown', 'West Drayton', 'Strabane', 'Bledlow', 'Ovingdean', 'Alderholt', 'Takeley', 'Wedmore', 'Compton', 'Gelligaer', 'Halesworth', 'Chipping Norton', 'Armitage', 'Livingston', 'Longport', 'Harrow Weald'}\n"
     ]
    }
   ],
   "source": [
    "print(cities)"
   ]
  },
  {
   "attachments": {},
   "cell_type": "markdown",
   "metadata": {},
   "source": [
    "2.1. __Parsing the location keyword using flashtext__"
   ]
  },
  {
   "cell_type": "code",
   "execution_count": 15,
   "metadata": {},
   "outputs": [
    {
     "name": "stdout",
     "output_type": "stream",
     "text": [
      "Requirement already satisfied: flashtext in /Users/nirdeshacharya/miniconda3/envs/CreditCardCleaning/lib/python3.11/site-packages (2.7)\n"
     ]
    }
   ],
   "source": [
    "!pip install flashtext"
   ]
  },
  {
   "cell_type": "code",
   "execution_count": 16,
   "metadata": {},
   "outputs": [],
   "source": [
    "\n",
    "from flashtext import KeywordProcessor\n",
    "\n",
    "keyword_processor = KeywordProcessor(case_sensitive=False)\n",
    "keyword_processor.add_keywords_from_list(sorted(cities))\n"
   ]
  },
  {
   "cell_type": "code",
   "execution_count": 17,
   "metadata": {},
   "outputs": [
    {
     "data": {
      "text/plain": [
       "['London']"
      ]
     },
     "execution_count": 17,
     "metadata": {},
     "output_type": "execute_result"
    }
   ],
   "source": [
    "texts = '33CPAYMENT*PRET A MANGER LONDON'\n",
    "keyword_processor.extract_keywords(texts)"
   ]
  },
  {
   "cell_type": "code",
   "execution_count": 18,
   "metadata": {},
   "outputs": [
    {
     "name": "stderr",
     "output_type": "stream",
     "text": [
      "/var/folders/3s/ctxnws1d7z96jkwxt5d58_600000gn/T/ipykernel_47268/3793971628.py:3: SettingWithCopyWarning: \n",
      "A value is trying to be set on a copy of a slice from a DataFrame.\n",
      "Try using .loc[row_indexer,col_indexer] = value instead\n",
      "\n",
      "See the caveats in the documentation: https://pandas.pydata.org/pandas-docs/stable/user_guide/indexing.html#returning-a-view-versus-a-copy\n",
      "  df['Location'] = df['Description'].apply(keyword_processor.extract_keywords).str[0].fillna('UK')\n"
     ]
    }
   ],
   "source": [
    "#applying the parsed keyword to a new column called 'Location'. Alternatively filling the field as UK where we could not parse cities\n",
    "\n",
    "df['Location'] = df['Description'].apply(keyword_processor.extract_keywords).str[0].fillna('UK')\n"
   ]
  },
  {
   "cell_type": "code",
   "execution_count": 19,
   "metadata": {},
   "outputs": [
    {
     "name": "stderr",
     "output_type": "stream",
     "text": [
      "/var/folders/3s/ctxnws1d7z96jkwxt5d58_600000gn/T/ipykernel_47268/1995752333.py:3: SettingWithCopyWarning: \n",
      "A value is trying to be set on a copy of a slice from a DataFrame.\n",
      "Try using .loc[row_indexer,col_indexer] = value instead\n",
      "\n",
      "See the caveats in the documentation: https://pandas.pydata.org/pandas-docs/stable/user_guide/indexing.html#returning-a-view-versus-a-copy\n",
      "  df['Location'] = df['Location'].str.replace('[', '').str.replace(']', '')\n"
     ]
    }
   ],
   "source": [
    "#Removing the brackets\n",
    "\n",
    "df['Location'] = df['Location'].str.replace('[', '').str.replace(']', '')"
   ]
  },
  {
   "cell_type": "code",
   "execution_count": 20,
   "metadata": {},
   "outputs": [
    {
     "data": {
      "text/plain": [
       "0      Feltham\n",
       "1      Feltham\n",
       "2      Feltham\n",
       "3      Feltham\n",
       "4      Edgware\n",
       "        ...   \n",
       "302         UK\n",
       "303    Feltham\n",
       "304    Feltham\n",
       "305         UK\n",
       "306         UK\n",
       "Name: Location, Length: 796, dtype: object"
      ]
     },
     "execution_count": 20,
     "metadata": {},
     "output_type": "execute_result"
    }
   ],
   "source": [
    "df['Location']"
   ]
  },
  {
   "cell_type": "code",
   "execution_count": 21,
   "metadata": {},
   "outputs": [
    {
     "data": {
      "text/html": [
       "<div>\n",
       "<style scoped>\n",
       "    .dataframe tbody tr th:only-of-type {\n",
       "        vertical-align: middle;\n",
       "    }\n",
       "\n",
       "    .dataframe tbody tr th {\n",
       "        vertical-align: top;\n",
       "    }\n",
       "\n",
       "    .dataframe thead th {\n",
       "        text-align: right;\n",
       "    }\n",
       "</style>\n",
       "<table border=\"1\" class=\"dataframe\">\n",
       "  <thead>\n",
       "    <tr style=\"text-align: right;\">\n",
       "      <th></th>\n",
       "      <th>Date</th>\n",
       "      <th>Description</th>\n",
       "      <th>Amount</th>\n",
       "      <th>Location</th>\n",
       "    </tr>\n",
       "  </thead>\n",
       "  <tbody>\n",
       "    <tr>\n",
       "      <th>0</th>\n",
       "      <td>30/12/2021</td>\n",
       "      <td>ASDA STORES             FELTHAM</td>\n",
       "      <td>13.26</td>\n",
       "      <td>Feltham</td>\n",
       "    </tr>\n",
       "    <tr>\n",
       "      <th>1</th>\n",
       "      <td>29/12/2021</td>\n",
       "      <td>TESCO STORE 2532 2532TE FELTHAM</td>\n",
       "      <td>1.81</td>\n",
       "      <td>Feltham</td>\n",
       "    </tr>\n",
       "    <tr>\n",
       "      <th>2</th>\n",
       "      <td>29/12/2021</td>\n",
       "      <td>TESCO STORE 2532 2532TE FELTHAM</td>\n",
       "      <td>16.84</td>\n",
       "      <td>Feltham</td>\n",
       "    </tr>\n",
       "    <tr>\n",
       "      <th>3</th>\n",
       "      <td>25/12/2021</td>\n",
       "      <td>IZ *GNDJ LIMITED        FELTHAM</td>\n",
       "      <td>5.19</td>\n",
       "      <td>Feltham</td>\n",
       "    </tr>\n",
       "    <tr>\n",
       "      <th>4</th>\n",
       "      <td>23/12/2021</td>\n",
       "      <td>IZ *LITTLE KATHMANDU    EDGWARE</td>\n",
       "      <td>5.00</td>\n",
       "      <td>Edgware</td>\n",
       "    </tr>\n",
       "    <tr>\n",
       "      <th>...</th>\n",
       "      <td>...</td>\n",
       "      <td>...</td>\n",
       "      <td>...</td>\n",
       "      <td>...</td>\n",
       "    </tr>\n",
       "    <tr>\n",
       "      <th>302</th>\n",
       "      <td>03/04/2022</td>\n",
       "      <td>IHS169516352PA02 2022-0 IMM HEALTH SURC</td>\n",
       "      <td>1248.00</td>\n",
       "      <td>UK</td>\n",
       "    </tr>\n",
       "    <tr>\n",
       "      <th>303</th>\n",
       "      <td>02/04/2022</td>\n",
       "      <td>ASDA STORES             FELTHAM</td>\n",
       "      <td>6.99</td>\n",
       "      <td>Feltham</td>\n",
       "    </tr>\n",
       "    <tr>\n",
       "      <th>304</th>\n",
       "      <td>29/03/2022</td>\n",
       "      <td>LIDL LON FELTHAM 0058   FELTHAM</td>\n",
       "      <td>21.65</td>\n",
       "      <td>Feltham</td>\n",
       "    </tr>\n",
       "    <tr>\n",
       "      <th>305</th>\n",
       "      <td>26/03/2022</td>\n",
       "      <td>TFL TRAVEL CHARGE       TFL.GOV.UK/CP</td>\n",
       "      <td>7.20</td>\n",
       "      <td>UK</td>\n",
       "    </tr>\n",
       "    <tr>\n",
       "      <th>306</th>\n",
       "      <td>25/03/2022</td>\n",
       "      <td>TFL TRAVEL CHARGE       TFL.GOV.UK/CP</td>\n",
       "      <td>4.50</td>\n",
       "      <td>UK</td>\n",
       "    </tr>\n",
       "  </tbody>\n",
       "</table>\n",
       "<p>796 rows × 4 columns</p>\n",
       "</div>"
      ],
      "text/plain": [
       "           Date                              Description   Amount Location\n",
       "0    30/12/2021          ASDA STORES             FELTHAM    13.26  Feltham\n",
       "1    29/12/2021          TESCO STORE 2532 2532TE FELTHAM     1.81  Feltham\n",
       "2    29/12/2021          TESCO STORE 2532 2532TE FELTHAM    16.84  Feltham\n",
       "3    25/12/2021          IZ *GNDJ LIMITED        FELTHAM     5.19  Feltham\n",
       "4    23/12/2021          IZ *LITTLE KATHMANDU    EDGWARE     5.00  Edgware\n",
       "..          ...                                      ...      ...      ...\n",
       "302  03/04/2022  IHS169516352PA02 2022-0 IMM HEALTH SURC  1248.00       UK\n",
       "303  02/04/2022          ASDA STORES             FELTHAM     6.99  Feltham\n",
       "304  29/03/2022          LIDL LON FELTHAM 0058   FELTHAM    21.65  Feltham\n",
       "305  26/03/2022    TFL TRAVEL CHARGE       TFL.GOV.UK/CP     7.20       UK\n",
       "306  25/03/2022    TFL TRAVEL CHARGE       TFL.GOV.UK/CP     4.50       UK\n",
       "\n",
       "[796 rows x 4 columns]"
      ]
     },
     "execution_count": 21,
     "metadata": {},
     "output_type": "execute_result"
    }
   ],
   "source": [
    "df"
   ]
  },
  {
   "attachments": {},
   "cell_type": "markdown",
   "metadata": {},
   "source": [
    "### 3. Extracting the retail keyword using Flashtext"
   ]
  },
  {
   "cell_type": "code",
   "execution_count": 22,
   "metadata": {},
   "outputs": [],
   "source": [
    "#Adding some UK retails to the keyword\n",
    "\n",
    "retailList = ['Asda','HUTCHISON','Tesco','Pret','Costa','Cineworld','DELIVEROO','Uber','Dayfresh','AMZNMKTPLACE','Starbucks','MCDONALD\\'S','SAINSBURY\\'s','Marks And Spencer','WETHERSPOON','READING BUSES','Sports Direct','Wikimedia','Trainline','Poundland','TK MAXX','Primark','Tim Hortons','Qatar Airways','Emirates','Boots','TFL','Lidl','Co-OP','Specsavers','Apple']"
   ]
  },
  {
   "cell_type": "code",
   "execution_count": 23,
   "metadata": {},
   "outputs": [],
   "source": [
    "keyword_processor = KeywordProcessor(case_sensitive=False)\n",
    "keyword_processor.add_keywords_from_list(retailList)\n",
    "\n"
   ]
  },
  {
   "cell_type": "code",
   "execution_count": 24,
   "metadata": {},
   "outputs": [
    {
     "data": {
      "text/plain": [
       "['Pret']"
      ]
     },
     "execution_count": 24,
     "metadata": {},
     "output_type": "execute_result"
    }
   ],
   "source": [
    "\n",
    "texts = '33CPAYMENT*PRET A MANGER LONDON'\n",
    "keyword_processor.extract_keywords(texts)"
   ]
  },
  {
   "cell_type": "code",
   "execution_count": 25,
   "metadata": {},
   "outputs": [
    {
     "name": "stderr",
     "output_type": "stream",
     "text": [
      "/var/folders/3s/ctxnws1d7z96jkwxt5d58_600000gn/T/ipykernel_47268/262173179.py:3: SettingWithCopyWarning: \n",
      "A value is trying to be set on a copy of a slice from a DataFrame.\n",
      "Try using .loc[row_indexer,col_indexer] = value instead\n",
      "\n",
      "See the caveats in the documentation: https://pandas.pydata.org/pandas-docs/stable/user_guide/indexing.html#returning-a-view-versus-a-copy\n",
      "  df['Retail'] = df['Description'].apply(keyword_processor.extract_keywords).str[0].fillna('Other')\n"
     ]
    }
   ],
   "source": [
    "#applying the parsed keyword to a new column called 'Retail'. Alternatively filling the field as Other where we could not parse retail\n",
    "\n",
    "df['Retail'] = df['Description'].apply(keyword_processor.extract_keywords).str[0].fillna('Other')\n"
   ]
  },
  {
   "cell_type": "code",
   "execution_count": 26,
   "metadata": {},
   "outputs": [
    {
     "name": "stderr",
     "output_type": "stream",
     "text": [
      "/var/folders/3s/ctxnws1d7z96jkwxt5d58_600000gn/T/ipykernel_47268/630286309.py:3: SettingWithCopyWarning: \n",
      "A value is trying to be set on a copy of a slice from a DataFrame.\n",
      "Try using .loc[row_indexer,col_indexer] = value instead\n",
      "\n",
      "See the caveats in the documentation: https://pandas.pydata.org/pandas-docs/stable/user_guide/indexing.html#returning-a-view-versus-a-copy\n",
      "  df['Retail'] = df['Retail'].str.title()\n"
     ]
    }
   ],
   "source": [
    "#Adjusting Case\n",
    "\n",
    "df['Retail'] = df['Retail'].str.title()\n"
   ]
  },
  {
   "attachments": {},
   "cell_type": "markdown",
   "metadata": {},
   "source": [
    "### 4. Analysis"
   ]
  },
  {
   "cell_type": "code",
   "execution_count": 27,
   "metadata": {},
   "outputs": [
    {
     "name": "stderr",
     "output_type": "stream",
     "text": [
      "/var/folders/3s/ctxnws1d7z96jkwxt5d58_600000gn/T/ipykernel_47268/3917982925.py:3: UserWarning: Parsing dates in %d/%m/%Y format when dayfirst=False (the default) was specified. Pass `dayfirst=True` or specify a format to silence this warning.\n",
      "  df['Date'] = pd.to_datetime(df['Date'])\n",
      "/var/folders/3s/ctxnws1d7z96jkwxt5d58_600000gn/T/ipykernel_47268/3917982925.py:3: SettingWithCopyWarning: \n",
      "A value is trying to be set on a copy of a slice from a DataFrame.\n",
      "Try using .loc[row_indexer,col_indexer] = value instead\n",
      "\n",
      "See the caveats in the documentation: https://pandas.pydata.org/pandas-docs/stable/user_guide/indexing.html#returning-a-view-versus-a-copy\n",
      "  df['Date'] = pd.to_datetime(df['Date'])\n"
     ]
    }
   ],
   "source": [
    "#Changing date type\n",
    "\n",
    "df['Date'] = pd.to_datetime(df['Date'])"
   ]
  },
  {
   "cell_type": "code",
   "execution_count": 28,
   "metadata": {},
   "outputs": [
    {
     "data": {
      "text/html": [
       "<div>\n",
       "<style scoped>\n",
       "    .dataframe tbody tr th:only-of-type {\n",
       "        vertical-align: middle;\n",
       "    }\n",
       "\n",
       "    .dataframe tbody tr th {\n",
       "        vertical-align: top;\n",
       "    }\n",
       "\n",
       "    .dataframe thead th {\n",
       "        text-align: right;\n",
       "    }\n",
       "</style>\n",
       "<table border=\"1\" class=\"dataframe\">\n",
       "  <thead>\n",
       "    <tr style=\"text-align: right;\">\n",
       "      <th></th>\n",
       "      <th>Date</th>\n",
       "      <th>Amount</th>\n",
       "    </tr>\n",
       "  </thead>\n",
       "  <tbody>\n",
       "    <tr>\n",
       "      <th>count</th>\n",
       "      <td>796</td>\n",
       "      <td>796.000000</td>\n",
       "    </tr>\n",
       "    <tr>\n",
       "      <th>mean</th>\n",
       "      <td>2022-05-05 20:28:20.502512384</td>\n",
       "      <td>16.175967</td>\n",
       "    </tr>\n",
       "    <tr>\n",
       "      <th>min</th>\n",
       "      <td>2021-10-02 00:00:00</td>\n",
       "      <td>0.200000</td>\n",
       "    </tr>\n",
       "    <tr>\n",
       "      <th>25%</th>\n",
       "      <td>2022-02-15 00:00:00</td>\n",
       "      <td>3.737500</td>\n",
       "    </tr>\n",
       "    <tr>\n",
       "      <th>50%</th>\n",
       "      <td>2022-04-25 00:00:00</td>\n",
       "      <td>5.850000</td>\n",
       "    </tr>\n",
       "    <tr>\n",
       "      <th>75%</th>\n",
       "      <td>2022-08-04 00:00:00</td>\n",
       "      <td>11.000000</td>\n",
       "    </tr>\n",
       "    <tr>\n",
       "      <th>max</th>\n",
       "      <td>2022-12-30 00:00:00</td>\n",
       "      <td>1248.000000</td>\n",
       "    </tr>\n",
       "    <tr>\n",
       "      <th>std</th>\n",
       "      <td>NaN</td>\n",
       "      <td>69.732442</td>\n",
       "    </tr>\n",
       "  </tbody>\n",
       "</table>\n",
       "</div>"
      ],
      "text/plain": [
       "                                Date       Amount\n",
       "count                            796   796.000000\n",
       "mean   2022-05-05 20:28:20.502512384    16.175967\n",
       "min              2021-10-02 00:00:00     0.200000\n",
       "25%              2022-02-15 00:00:00     3.737500\n",
       "50%              2022-04-25 00:00:00     5.850000\n",
       "75%              2022-08-04 00:00:00    11.000000\n",
       "max              2022-12-30 00:00:00  1248.000000\n",
       "std                              NaN    69.732442"
      ]
     },
     "execution_count": 28,
     "metadata": {},
     "output_type": "execute_result"
    }
   ],
   "source": [
    "df.describe()"
   ]
  },
  {
   "cell_type": "code",
   "execution_count": 29,
   "metadata": {},
   "outputs": [
    {
     "name": "stdout",
     "output_type": "stream",
     "text": [
      "454 days 00:00:00\n",
      "336\n",
      "12876.07\n",
      "28.361387665198237\n"
     ]
    }
   ],
   "source": [
    "print(df['Date'].max()-df['Date'].min())\n",
    "print(len(df['Date'].unique()))\n",
    "print(df['Amount'].sum())\n",
    "print(df['Amount'].sum()/int((df['Date'].max()-df['Date'].min()).days))"
   ]
  },
  {
   "attachments": {},
   "cell_type": "markdown",
   "metadata": {},
   "source": [
    "__*4.1. Findings*__\n",
    "___________\n",
    "1. The data contains around __*15 months*__  or __*454 days*__ of spendings \n",
    "2. Total amount of money spent in duration on the credit card was £*12876.07*\n",
    "3. Out of __*454 days*__. There was __*336 days*__ where the money was spent\n",
    "4. Average amount spent each day was *__28.36__*"
   ]
  },
  {
   "attachments": {},
   "cell_type": "markdown",
   "metadata": {},
   "source": [
    "__4.2. Top 5 most visited Retail__"
   ]
  },
  {
   "cell_type": "code",
   "execution_count": 30,
   "metadata": {},
   "outputs": [
    {
     "data": {
      "image/png": "[encoded data removed]",
      "text/plain": [
       "<Figure size 640x480 with 1 Axes>"
      ]
     },
     "metadata": {},
     "output_type": "display_data"
    }
   ],
   "source": [
    "counts = df['Retail'].value_counts()\n",
    "top5Frequent = pd.DataFrame({'Retail': counts[counts.index!='Other'].index[:5],\n",
    "                          'Count': counts[counts.index!='Other'].values[:5]})\n",
    "sns.barplot(data=top5Frequent,x='Retail',y='Count')\n",
    "plt.show()"
   ]
  },
  {
   "cell_type": "code",
   "execution_count": 31,
   "metadata": {},
   "outputs": [
    {
     "data": {
      "image/png": "[encoded data removed]",
      "text/plain": [
       "<Figure size 640x480 with 1 Axes>"
      ]
     },
     "metadata": {},
     "output_type": "display_data"
    }
   ],
   "source": [
    "sns.barplot(data=df.sort_values('Amount', ascending=False).head(5),x='Retail',y='Amount')\n",
    "plt.show()"
   ]
  }
 ],
 "metadata": {
  "kernelspec": {
   "display_name": "CreditCardCleaning",
   "language": "python",
   "name": "python3"
  },
  "language_info": {
   "codemirror_mode": {
    "name": "ipython",
    "version": 3
   },
   "file_extension": ".py",
   "mimetype": "text/x-python",
   "name": "python",
   "nbconvert_exporter": "python",
   "pygments_lexer": "ipython3",
   "version": "3.11.3"
  },
  "orig_nbformat": 4
 },
 "nbformat": 4,
 "nbformat_minor": 2
}
